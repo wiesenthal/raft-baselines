{
 "cells": [
  {
   "cell_type": "code",
   "execution_count": 15,
   "metadata": {},
   "outputs": [
    {
     "ename": "FileNotFoundError",
     "evalue": "[Errno 2] No such file or directory: '../../../results/loo_tuning/sources/1/metrics.json'",
     "output_type": "error",
     "traceback": [
      "\u001b[0;31m---------------------------------------------------------------------------\u001b[0m",
      "\u001b[0;31mFileNotFoundError\u001b[0m                         Traceback (most recent call last)",
      "\u001b[1;32m/Users/miles/Documents/github/raft/raft-baselines/src/raft_baselines/scripts/test.ipynb Cell 1\u001b[0m line \u001b[0;36m6\n\u001b[1;32m      <a href='vscode-notebook-cell:/Users/miles/Documents/github/raft/raft-baselines/src/raft_baselines/scripts/test.ipynb#X23sZmlsZQ%3D%3D?line=2'>3</a>\u001b[0m \u001b[39mimport\u001b[39;00m \u001b[39mjson\u001b[39;00m\n\u001b[1;32m      <a href='vscode-notebook-cell:/Users/miles/Documents/github/raft/raft-baselines/src/raft_baselines/scripts/test.ipynb#X23sZmlsZQ%3D%3D?line=3'>4</a>\u001b[0m \u001b[39mimport\u001b[39;00m \u001b[39mnumpy\u001b[39;00m \u001b[39mas\u001b[39;00m \u001b[39mnp\u001b[39;00m\n\u001b[0;32m----> <a href='vscode-notebook-cell:/Users/miles/Documents/github/raft/raft-baselines/src/raft_baselines/scripts/test.ipynb#X23sZmlsZQ%3D%3D?line=5'>6</a>\u001b[0m \u001b[39mwith\u001b[39;00m \u001b[39mopen\u001b[39;49m(\u001b[39m'\u001b[39;49m\u001b[39m../../../results/loo_tuning/sources/1/metrics.json\u001b[39;49m\u001b[39m'\u001b[39;49m) \u001b[39mas\u001b[39;00m f:\n\u001b[1;32m      <a href='vscode-notebook-cell:/Users/miles/Documents/github/raft/raft-baselines/src/raft_baselines/scripts/test.ipynb#X23sZmlsZQ%3D%3D?line=6'>7</a>\u001b[0m     metrics_gpt3 \u001b[39m=\u001b[39m json\u001b[39m.\u001b[39mload(f)\n\u001b[1;32m      <a href='vscode-notebook-cell:/Users/miles/Documents/github/raft/raft-baselines/src/raft_baselines/scripts/test.ipynb#X23sZmlsZQ%3D%3D?line=8'>9</a>\u001b[0m \u001b[39mwith\u001b[39;00m \u001b[39mopen\u001b[39m(\u001b[39m'\u001b[39m\u001b[39m../../../results/loo_tuning/sources/2/metrics.json\u001b[39m\u001b[39m'\u001b[39m) \u001b[39mas\u001b[39;00m f:\n",
      "File \u001b[0;32m/opt/homebrew/Caskroom/miniconda/base/envs/raft-baselines/lib/python3.8/site-packages/IPython/core/interactiveshell.py:284\u001b[0m, in \u001b[0;36m_modified_open\u001b[0;34m(file, *args, **kwargs)\u001b[0m\n\u001b[1;32m    277\u001b[0m \u001b[39mif\u001b[39;00m file \u001b[39min\u001b[39;00m {\u001b[39m0\u001b[39m, \u001b[39m1\u001b[39m, \u001b[39m2\u001b[39m}:\n\u001b[1;32m    278\u001b[0m     \u001b[39mraise\u001b[39;00m \u001b[39mValueError\u001b[39;00m(\n\u001b[1;32m    279\u001b[0m         \u001b[39mf\u001b[39m\u001b[39m\"\u001b[39m\u001b[39mIPython won\u001b[39m\u001b[39m'\u001b[39m\u001b[39mt let you open fd=\u001b[39m\u001b[39m{\u001b[39;00mfile\u001b[39m}\u001b[39;00m\u001b[39m by default \u001b[39m\u001b[39m\"\u001b[39m\n\u001b[1;32m    280\u001b[0m         \u001b[39m\"\u001b[39m\u001b[39mas it is likely to crash IPython. If you know what you are doing, \u001b[39m\u001b[39m\"\u001b[39m\n\u001b[1;32m    281\u001b[0m         \u001b[39m\"\u001b[39m\u001b[39myou can use builtins\u001b[39m\u001b[39m'\u001b[39m\u001b[39m open.\u001b[39m\u001b[39m\"\u001b[39m\n\u001b[1;32m    282\u001b[0m     )\n\u001b[0;32m--> 284\u001b[0m \u001b[39mreturn\u001b[39;00m io_open(file, \u001b[39m*\u001b[39;49margs, \u001b[39m*\u001b[39;49m\u001b[39m*\u001b[39;49mkwargs)\n",
      "\u001b[0;31mFileNotFoundError\u001b[0m: [Errno 2] No such file or directory: '../../../results/loo_tuning/sources/1/metrics.json'"
     ]
    }
   ],
   "source": [
    "# load ../../../results/loo_tuning/sources/2/metrics.json\n",
    "\n",
    "import json\n",
    "import numpy as np\n",
    "\n",
    "with open('../../../results/loo_tuning/1/metrics.json') as f:\n",
    "    metrics_gpt3 = json.load(f)\n",
    "    \n",
    "with open('../../../results/loo_tuning/2/metrics.json') as f:\n",
    "    metrics_gpt35 = json.load(f)\n",
    "\n",
    "\n",
    "values_gpt3 = [\n",
    "    v['values'][0] \n",
    "    for _, v in metrics_gpt3.items()\n",
    "]\n",
    "\n",
    "values_gpt35 = [\n",
    "    v['values'][0] \n",
    "    for _, v in metrics_gpt35.items()\n",
    "]\n",
    "\n",
    "print(np.mean(values_gpt3))\n",
    "print(np.mean(values_gpt35))"
   ]
  },
  {
   "cell_type": "code",
   "execution_count": 1,
   "metadata": {},
   "outputs": [
    {
     "name": "stderr",
     "output_type": "stream",
     "text": [
      "/opt/homebrew/Caskroom/miniconda/base/envs/raft-baselines/lib/python3.8/site-packages/tqdm/auto.py:21: TqdmWarning: IProgress not found. Please update jupyter and ipywidgets. See https://ipywidgets.readthedocs.io/en/stable/user_install.html\n",
      "  from .autonotebook import tqdm as notebook_tqdm\n"
     ]
    }
   ],
   "source": [
    "import datasets\n",
    "\n",
    "from raft_baselines.classifiers import GPT3Classifier\n",
    "\n",
    "train = datasets.load_dataset(\n",
    "    \"ought/raft\", \"neurips_impact_statement_risks\", split=\"train\"\n",
    ")"
   ]
  },
  {
   "cell_type": "code",
   "execution_count": 2,
   "metadata": {},
   "outputs": [],
   "source": [
    "from raft_baselines.classifiers import ChatGPTClassifier\n",
    "\n"
   ]
  },
  {
   "cell_type": "code",
   "execution_count": 3,
   "metadata": {},
   "outputs": [],
   "source": [
    "classifier = ChatGPTClassifier(\n",
    "    train, config=\"neurips_impact_statement_risks\", do_semantic_selection=True\n",
    ")"
   ]
  },
  {
   "cell_type": "code",
   "execution_count": 12,
   "metadata": {},
   "outputs": [
    {
     "name": "stdout",
     "output_type": "stream",
     "text": [
      "cpu\n",
      "{3250: 100.0, 34945: 100.0}\n",
      "[' doesn', ' mentions']\n",
      "Comparing clas_str=\" doesn't mention a harmful application\" to token=' mentions'\n",
      "Comparing self.tokenizer(clas_str)[0]=3250 to self.tokenizer(token)[0]=34945\n",
      "Comparing clas_first_token_id=3250 to token_id=34945\n",
      "Comparing clas_str=' mentions a harmful application' to token=' mentions'\n",
      "Comparing self.tokenizer(clas_str)[0]=34945 to self.tokenizer(token)[0]=34945\n",
      "Comparing clas_first_token_id=34945 to token_id=34945\n",
      "{\"doesn't mention a harmful application\": 0.0, 'mentions a harmful application': 1.0}\n"
     ]
    }
   ],
   "source": [
    "print(classifier.classify({\"Paper title\": \"GNN research\", \"Impact statement\": \"test2\"}))\n",
    "\n",
    "# from raft_baselines.utils.tokenizers import GPTTokenizer\n"
   ]
  }
 ],
 "metadata": {
  "kernelspec": {
   "display_name": "raft-baselines",
   "language": "python",
   "name": "python3"
  },
  "language_info": {
   "codemirror_mode": {
    "name": "ipython",
    "version": 3
   },
   "file_extension": ".py",
   "mimetype": "text/x-python",
   "name": "python",
   "nbconvert_exporter": "python",
   "pygments_lexer": "ipython3",
   "version": "3.8.18"
  }
 },
 "nbformat": 4,
 "nbformat_minor": 2
}
